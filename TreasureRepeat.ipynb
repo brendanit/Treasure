{
 "cells": [
  {
   "cell_type": "code",
   "execution_count": 1,
   "metadata": {},
   "outputs": [
    {
     "name": "stdout",
     "output_type": "stream",
     "text": [
      "Requirement already satisfied: bitstring in c:\\users\\brend\\anaconda\\lib\\site-packages (3.1.7)\n",
      "Note: you may need to restart the kernel to use updated packages.\n"
     ]
    }
   ],
   "source": [
    "pip install bitstring"
   ]
  },
  {
   "cell_type": "code",
   "execution_count": 2,
   "metadata": {},
   "outputs": [],
   "source": [
    "import numpy as np\n",
    "from copy import deepcopy\n",
    "from bitstring import BitStream, BitArray\n",
    "from matplotlib import pyplot as plt"
   ]
  },
  {
   "cell_type": "code",
   "execution_count": 3,
   "metadata": {},
   "outputs": [],
   "source": [
    "# The treasure hoard is where the treasure is held\n",
    "class treasure_hoard:\n",
    "  item_count = 0\n",
    "  items = []\n",
    "  def __init__(self,total_item_count, seed):\n",
    "    np.random.seed = seed \n",
    "    self.max_value = np.random.randint(50,100)\n",
    "    self.min_value = np.random.randint(0,3)\n",
    "    self.max_length = np.random.randint(3,10)\n",
    "    self.min_length = np.random.randint(1,3)\n",
    "    self.max_weight = np.random.randint(3,20)\n",
    "    self.min_weight = np.random.randint(1,3)\n",
    "\n",
    "    for _ in range(total_item_count):\n",
    "      self.items.append(treasure_item(self.max_value,self.max_length,self.max_weight,min_value=self.min_value, min_length= self.min_length, min_weight=self.min_weight))\n",
    "  def display(self):\n",
    "    print( \"max value: \" + str(self.max_value) + \", \" +  str(self.min_value) + \"\\n\" + \"max length: \" + str(self.max_length) + \", \" +  str(self.min_length) + \"\\n\" + \"max weight: \" + str(self.max_weight) + \", \" +  str(self.min_weight))"
   ]
  },
  {
   "cell_type": "code",
   "execution_count": 4,
   "metadata": {},
   "outputs": [],
   "source": [
    "# Treasure item is a single piece of treasure\n",
    "# The treasure item has a value, length and weight \n",
    "class treasure_item:\n",
    "  value = 0\n",
    "  length = 0\n",
    "  weight = 0\n",
    "  def __init__(self, max_value,max_length, max_weight,min_value = 0, min_length = 1, min_weight = 1):\n",
    "    self.value = np.random.randint(min_value,max_value)\n",
    "    self.length = np.random.randint(min_length,max_length)\n",
    "    self.weight = np.random.randint(min_weight,max_weight)\n",
    "\n",
    "  def display(self):\n",
    "    print(\"Item Value \"+ str(self.value) + \" length \" + str(self.length) + \" weight \" + str(self.weight))"
   ]
  },
  {
   "cell_type": "code",
   "execution_count": 5,
   "metadata": {},
   "outputs": [],
   "source": [
    "# The treasure must not be over a certain weight and length,the fitnes function is used to insure it is the correct\n",
    "# weight and length\n",
    "# The max weight and length are defined here\n",
    "class problem(): \n",
    "  total_value = 0\n",
    "  total_length = 0\n",
    "  total_weight = 0\n",
    "  fitness_to_weight_length_ratio = 0\n",
    "\n",
    "  def __init__(self):\n",
    "    self.max_items = 50\n",
    "    self.min_items = 10 \n",
    "    self.max_length = 240\n",
    "    self.max_weight = 300\n",
    "    self.number_of_treasure_items = 100\n",
    "\n",
    "  def fitness_function(self, items, treasure):\n",
    "    self.total_value, self.total_length, self.total_weight = totals_in_knapsack(items, treasure)\n",
    "    if (self.total_length < self.max_length) and (self.total_weight <= self.max_weight) and (items.bin.count(\"1\")<= 50 and items.bin.count(\"1\") >= 10):\n",
    "      self.fitness_to_weight_length_ratio = self.total_value/(self.total_weight+self.total_length)\n",
    "      return (self.total_value, self.fitness_to_weight_length_ratio)\n",
    "    else:\n",
    "      return \"Incomatable treasure item\""
   ]
  },
  {
   "cell_type": "code",
   "execution_count": 6,
   "metadata": {},
   "outputs": [],
   "source": [
    "# The parameters for the problem are changed here \n",
    "class parameters:\n",
    "  def __init__(self):\n",
    "    self.number_in_population = 100\n",
    "    self.number_of_iterations = 200\n",
    "\n",
    "    #children\n",
    "    self.child_rate = 1\n",
    "    self.number_of_children = self.number_in_population * self.child_rate\n",
    "\n",
    "    #tournament selection parameters\n",
    "    self.competitors_per_match = 3\n",
    "    self.matches_per_round = 9\n",
    "\n",
    "    #Crossover Rate\n",
    "    self.crossover_rate = 0.5\n",
    "    self.crossover_explore_rate = 0.5\n",
    "\n",
    "    #Mutation parameters\n",
    "    self.mutation_rate = 0.1\n",
    "    self.mutation_range = 0.5\n",
    "\n",
    "    #Explore exploit\n",
    "    self.explore_exploit = .99"
   ]
  },
  {
   "cell_type": "code",
   "execution_count": 7,
   "metadata": {},
   "outputs": [],
   "source": [
    "# This function tallies up the weight, length and value and returns it to the fitness function \n",
    "def totals_in_knapsack(items, treasure):\n",
    "  value = 0\n",
    "  length = 0\n",
    "  weight = 0\n",
    "\n",
    "  for i in range(len(items)):\n",
    "    if items[i] is True:\n",
    "      value += treasure.items[i].value\n",
    "      length += treasure.items[i].length\n",
    "      weight += treasure.items[i].weight\n",
    "  return value, length, weight"
   ]
  },
  {
   "cell_type": "code",
   "execution_count": 8,
   "metadata": {},
   "outputs": [],
   "source": [
    "# The individual is the knapsack of treasure,the cromosone is the items taken from the treaure hoard, \n",
    "class individual():\n",
    "  #items\n",
    "  chromosone = None\n",
    "\n",
    "  fitness = 0\n",
    "  fitness_to_weight_length_ratio=0\n",
    "\n",
    "  prob = None\n",
    "\n",
    "  #constructor\n",
    "  def __init__(self, problem = problem()):\n",
    "    self.prob = problem\n",
    "    self.chromosone = BitArray(bin = '0'*self.prob.number_of_treasure_items)\n",
    "\n",
    "    if problem is not None:\n",
    "      for _ in range(np.random.randint(low=self.prob.min_items, high=self.prob.max_items)):\n",
    "        self.chromosone[np.random.randint(self.prob.number_of_treasure_items)] = True\n",
    "        values = self.prob.fitness_function(self.chromosone, treasure) \n",
    "        self.fitness = values[0] \n",
    "        self.fitness_to_weight_length_ratio = values[1]\n",
    "        \n",
    "# The crossover combines the genetic information of two parents into one child  \n",
    "\n",
    "  def crossover(self, other_parent, explore_rate):\n",
    "    child1 = deepcopy(self)\n",
    "    child2 = deepcopy(other_parent)\n",
    "    alpha = np.random.randint(self.prob.number_of_treasure_items)\n",
    "    beta = np.random.randint(alpha, self.prob.number_of_treasure_items)\n",
    "    child1.chromosone = self.chromosone[0:alpha] + other_parent.chromosone[alpha:beta] + self.chromosone[beta:self.prob.number_of_treasure_items]\n",
    "    child2.chromosone = other_parent.chromosone[0:alpha] + self.chromosone[alpha:beta] + other_parent.chromosone[beta:self.prob.number_of_treasure_items]\n",
    "    \n",
    "    return child1, child2\n",
    "\n",
    "# The mutation is used to add a different item to the knapsack,for this mutation a bitstring was used \n",
    "\n",
    "  def mutate(self, mutation_rate, mutation_range):\n",
    "    item_list = list(self.chromosone.bin)\n",
    "    for i in range(len(item_list)):\n",
    "      if np.random.rand()<mutation_rate:\n",
    "        item_list[i] = str(int(not bool(int(item_list[i])))) \n",
    "    self.chromosone.bin = \"\".join(item_list)"
   ]
  },
  {
   "cell_type": "code",
   "execution_count": 9,
   "metadata": {},
   "outputs": [],
   "source": [
    "# The methods used for parent selection are random, roulete and tournamant \n",
    "# Random selection\n",
    "# In this strategy we randomly select parents from the existing population\n",
    "def choose_distinct_pair_from(number_in_pop):\n",
    "  index1 = np.random.randint(number_in_pop)\n",
    "  index2 = np.random.randint(number_in_pop)\n",
    "  if index1 == index2:\n",
    "    return choose_distinct_pair_from(number_in_pop)\n",
    "  else:\n",
    "    return index1,index2"
   ]
  },
  {
   "cell_type": "code",
   "execution_count": 10,
   "metadata": {},
   "outputs": [],
   "source": [
    "# Roulete selection\n",
    "# In roulette wheel selection, each individual has a chance to be selected. \n",
    "# The chance of an individual to be selected is based on the fitness value of the individual. \n",
    "# Fitter individuals have a higher chance to be selected.\n",
    "def roulette_wheel_index_selection(pop):\n",
    "  fitness_array = []\n",
    "  \n",
    "  for i in range(len(pop)):\n",
    "    fitness_array.append(pop[i].fitness)\n",
    "\n",
    "  cumulative_total_array = np.cumsum(fitness_array)\n",
    "  parent1_from_cumulative_total_array = sum(fitness_array) * np.random.rand()\n",
    "  parent2_from_cumulative_total_array = sum(fitness_array) * np.random.rand()\n",
    "  \n",
    "  index1 = np.argwhere(parent1_from_cumulative_total_array <= cumulative_total_array)\n",
    "  index2 = np.argwhere(parent2_from_cumulative_total_array <= cumulative_total_array)\n",
    "    \n",
    "  if index1[0][0] != index2[0][0]:\n",
    "    return index1[0][0], index2[0][0]\n",
    "  else:\n",
    "     return roulette_wheel_index_selection(pop)"
   ]
  },
  {
   "cell_type": "code",
   "execution_count": 11,
   "metadata": {},
   "outputs": [],
   "source": [
    "# Tournament selection\n",
    "#  Tournament selection involves running several \"tournaments\" among a few individuals (or \"chromosomes\") \n",
    "# chosen at random from the population\n",
    "def tournament_selection(pop, competitors_per_match, matches_per_round):\n",
    "  #get indexes for individual contestants\n",
    "  parent1_sample = np.random.randint(low=0, high=len(pop), size=competitors_per_match*matches_per_round).tolist()\n",
    "  parent2_sample = np.random.randint(low=0, high=len(pop), size=competitors_per_match*matches_per_round).tolist()\n",
    "\n",
    "  parent1_contestants=[]\n",
    "  parent2_contestants=[]\n",
    "  #get contestants\n",
    "  for k in range(len(parent1_sample)):\n",
    "    parent1_contestants.append(pop[parent1_sample[k]])\n",
    "    parent2_contestants.append(pop[parent2_sample[k]])\n",
    "  \n",
    "  #go until there's a winner\n",
    "  while len(parent1_contestants) != 1:#len(competitors)\n",
    "    #show winners\n",
    "    parent1_winners=[]\n",
    "    parent2_winners=[]\n",
    "    #show competitors \n",
    "    parent1_competitors=[]\n",
    "    parent2_competitors=[]\n",
    "    #split into size rounds\n",
    "    for i in range(0, len(parent1_contestants), competitors_per_match):\n",
    "      parent1_competitors.append(parent1_contestants[i:i+competitors_per_match])\n",
    "      parent2_competitors.append(parent2_contestants[i:i+competitors_per_match])\n",
    "    #sort\n",
    "    for j in range(len(parent1_competitors)):\n",
    "      #get winner \n",
    "      parent1_winners.append(sorted(parent1_competitors[j], key = lambda x:x.fitness, reverse=True)[0])\n",
    "      parent2_winners.append(sorted(parent2_competitors[j], key = lambda x:x.fitness, reverse=True)[0])\n",
    "  \n",
    "    #winners of each round become contestants\n",
    "    parent1_contestants=parent1_winners\n",
    "    parent2_contestants=parent2_winners\n",
    "\n",
    "  parent1=parent1_contestants[0]\n",
    "  parent2=parent2_contestants[0]\n",
    "\n",
    "  if parent1 != parent2:\n",
    "    return parent1, parent2\n",
    "  else:\n",
    "    return tournament_selection(pop, competitors_per_match, matches_per_round)"
   ]
  },
  {
   "cell_type": "code",
   "execution_count": 12,
   "metadata": {},
   "outputs": [],
   "source": [
    "def run_genetic(problem, parameters):\n",
    "  fitness = []\n",
    "\n",
    "  #read problem \n",
    "  fitness_function = problem.fitness_function\n",
    "\n",
    "  #read parameters\n",
    "  number_in_population = parameters.number_in_population\n",
    "  number_of_iterations = parameters.number_of_iterations\n",
    "  number_of_children = parameters.number_of_children\n",
    "  crossover_rate = parameters.crossover_rate\n",
    "  crossover_explore_rate = parameters.crossover_explore_rate\n",
    "  mutation_rate = parameters.mutation_rate\n",
    "  mutation_range = parameters.mutation_range\n",
    "  explore_exploit = parameters.explore_exploit\n",
    "  competitors_per_match = parameters.competitors_per_match\n",
    "  matches_per_round = parameters.matches_per_round\n",
    "\n",
    "\n",
    "  #placeholder for best case\n",
    "  best_solution = deepcopy(individual())\n",
    "  best_solution.fitness = 0\n",
    "  best_solution.fitness_to_weight_length_ratio=0\n",
    "\n",
    "  population = []\n",
    "  fitnesses = []\n",
    "  while len(population) <= number_in_population:\n",
    "    new_individual = individual(problem)\n",
    "    if isinstance(new_individual.fitness, (int)):\n",
    "      population.append(new_individual)\n",
    "      fitnesses.append(new_individual.fitness)\n",
    "\n",
    "      if new_individual.fitness > best_solution.fitness:\n",
    "        best_solution = deepcopy(new_individual)\n",
    "  population = sorted(population, key = lambda x:x.fitness, reverse=True)\n",
    "  fitnesses = sorted(fitnesses, reverse=True)\n",
    "\n",
    "  for i in range(number_of_iterations):\n",
    "    children = []\n",
    "    #generate childs\n",
    "    while len(children) <= number_of_children:\n",
    "      parent1_index, parent2_index = roulette_wheel_index_selection(population)\n",
    "      parent1 = population[parent1_index]\n",
    "      parent2 = population[parent2_index]\n",
    "\n",
    "      #crossover\n",
    "      child1, child2 = parent1.crossover(parent2, crossover_explore_rate)\n",
    "      \n",
    "      #mutate\n",
    "      child1.mutate(mutation_rate, mutation_range)\n",
    "      child2.mutate(mutation_rate, mutation_range)\n",
    "      values = fitness_function(child1.chromosone, treasure)\n",
    "      child1.fitness = values[0]\n",
    "      child1.fitness_to_weight_length_ratio = values[1]\n",
    "      values = fitness_function(child2.chromosone, treasure)\n",
    "      child2.fitness = values[0]\n",
    "      child2.fitness_to_weight_length_ratio = values[1]\n",
    "      if isinstance(child1.fitness, (int)):\n",
    "        children.append(child1)\n",
    "      if isinstance(child2.fitness, (int)):\n",
    "        children.append(child2)  \n",
    "    # Add children to population\n",
    "    population += children\n",
    "\n",
    "\n",
    "    # sort/reduce population to correct level\n",
    "    population = sorted(population, key = lambda x:x.fitness, reverse=True)[:number_in_population]\n",
    "    \n",
    "    if population[0].fitness > best_solution.fitness:\n",
    "      best_solution = deepcopy(population[0])\n",
    "      \n",
    "    fitness.append(best_solution.fitness)\n",
    "  return best_solution, number_of_iterations, fitness"
   ]
  },
  {
   "cell_type": "code",
   "execution_count": 13,
   "metadata": {},
   "outputs": [],
   "source": [
    "prob = problem()\n",
    "params = parameters()"
   ]
  },
  {
   "cell_type": "code",
   "execution_count": 14,
   "metadata": {},
   "outputs": [],
   "source": [
    "treasure = treasure_hoard(500, 1967)"
   ]
  },
  {
   "cell_type": "code",
   "execution_count": 15,
   "metadata": {},
   "outputs": [],
   "source": [
    "best_soln, num_iterations, fitness = run_genetic(prob, params)"
   ]
  },
  {
   "cell_type": "code",
   "execution_count": 16,
   "metadata": {},
   "outputs": [
    {
     "data": {
      "image/png": "[encoded data removed]",
      "text/plain": [
       "<Figure size 432x288 with 1 Axes>"
      ]
     },
     "metadata": {
      "needs_background": "light"
     },
     "output_type": "display_data"
    },
    {
     "name": "stdout",
     "output_type": "stream",
     "text": [
      "Best Solution: 2533\n"
     ]
    }
   ],
   "source": [
    "#random parent selection results\n",
    "\n",
    "x = np.arange(num_iterations)\n",
    "y = np.array(fitness)\n",
    "plt.title(\"Fitness over iterations\") \n",
    "plt.xlabel(\"Iteration\") \n",
    "plt.ylabel(\"Fitness\") \n",
    "plt.plot(x,y) \n",
    "plt.show()\n",
    "print(\"Best Solution: \" + str(best_soln.fitness))"
   ]
  },
  {
   "attachments": {
    "image.png": {
     "image/png": "[encoded data removed]"
    }
   },
   "cell_type": "markdown",
   "metadata": {},
   "source": [
    "# ![image.png](attachment:image.png)\n",
    "Best Solution 2533"
   ]
  },
  {
   "cell_type": "code",
   "execution_count": 17,
   "metadata": {},
   "outputs": [],
   "source": [
    "# tnumber as seed\n",
    "treasure = treasure_hoard(500, 202371)"
   ]
  },
  {
   "cell_type": "code",
   "execution_count": 18,
   "metadata": {},
   "outputs": [],
   "source": [
    "prob = problem()\n",
    "params = parameters()"
   ]
  },
  {
   "cell_type": "code",
   "execution_count": 19,
   "metadata": {},
   "outputs": [],
   "source": [
    "best_soln, num_iterations, fitness = run_genetic(prob, params)"
   ]
  },
  {
   "cell_type": "code",
   "execution_count": 20,
   "metadata": {},
   "outputs": [
    {
     "data": {
      "image/png": "[encoded data removed]",
      "text/plain": [
       "<Figure size 432x288 with 1 Axes>"
      ]
     },
     "metadata": {
      "needs_background": "light"
     },
     "output_type": "display_data"
    },
    {
     "name": "stdout",
     "output_type": "stream",
     "text": [
      "Best Solution: 2536\n"
     ]
    }
   ],
   "source": [
    "x = np.arange(num_iterations)\n",
    "y = np.array(fitness)\n",
    "plt.title(\"Tnumber as seed\") \n",
    "plt.xlabel(\"Iteration\") \n",
    "plt.ylabel(\"Fitness\") \n",
    "plt.plot(x,y) \n",
    "plt.show()\n",
    "print(\"Best Solution: \" + str(best_soln.fitness))"
   ]
  },
  {
   "attachments": {
    "image.png": {
     "image/png": "[encoded data removed]"
    }
   },
   "cell_type": "markdown",
   "metadata": {},
   "source": [
    "![image.png](attachment:image.png) \n",
    "Best solution 2536"
   ]
  },
  {
   "cell_type": "code",
   "execution_count": null,
   "metadata": {},
   "outputs": [],
   "source": [
    "competitors_per_round=2\n",
    "number_of_rounds=10\n",
    "sample = np.random.randint(low=1, high=100, size=number_of_rounds*competitors_per_round).tolist()\n",
    "no_rounds=0\n",
    "\n",
    "print(\"sample: \" + str(sample))\n",
    "while len(sample) != 1:\n",
    "  no_rounds+=1\n",
    "  winners=[]\n",
    "  competitors=[]\n",
    "  #split\n",
    "  for i in range(0, len(sample), competitors_per_round):\n",
    "    competitors.append(sample[i:i+competitors_per_round])\n",
    "  #sort\n",
    "  for j in range(len(competitors)):\n",
    "    #get winner \n",
    "    winners.append(sorted(competitors[j], reverse=True)[0])\n",
    "  \n",
    "  print(\"competitors: \" + str(competitors))\n",
    "  print(\"winners: \" + str(winners))\n",
    "  sample=winners \n",
    "  print(\"rounds: \" + str(no_rounds))"
   ]
  },
  {
   "cell_type": "code",
   "execution_count": 22,
   "metadata": {},
   "outputs": [],
   "source": [
    "# The parameters for the problem are changed here \n",
    "class parameters:\n",
    "  def __init__(self):\n",
    "    self.number_in_population = 500\n",
    "    self.number_of_iterations = 700\n",
    "\n",
    "    #children\n",
    "    self.child_rate = 1\n",
    "    self.number_of_children = self.number_in_population * self.child_rate\n",
    "\n",
    "    #tournament selection parameters\n",
    "    self.competitors_per_match = 3\n",
    "    self.matches_per_round = 9\n",
    "\n",
    "    #Crossover Rate\n",
    "    self.crossover_rate = 0.5\n",
    "    self.crossover_explore_rate = 0.5\n",
    "\n",
    "    #Mutation parameters\n",
    "    self.mutation_rate = 0.05\n",
    "    self.mutation_range = 0.5\n",
    "\n",
    "    #Explore exploit\n",
    "    self.explore_exploit = .5"
   ]
  },
  {
   "cell_type": "code",
   "execution_count": 23,
   "metadata": {},
   "outputs": [],
   "source": [
    "prob = problem()\n",
    "params = parameters()"
   ]
  },
  {
   "cell_type": "code",
   "execution_count": 24,
   "metadata": {},
   "outputs": [],
   "source": [
    "treasure = treasure_hoard(500, 1967)"
   ]
  },
  {
   "cell_type": "code",
   "execution_count": 25,
   "metadata": {},
   "outputs": [],
   "source": [
    "best_soln, num_iterations, fitness = run_genetic(prob, params)"
   ]
  },
  {
   "cell_type": "code",
   "execution_count": 26,
   "metadata": {},
   "outputs": [
    {
     "data": {
      "image/png": "[encoded data removed]",
      "text/plain": [
       "<Figure size 432x288 with 1 Axes>"
      ]
     },
     "metadata": {
      "needs_background": "light"
     },
     "output_type": "display_data"
    },
    {
     "name": "stdout",
     "output_type": "stream",
     "text": [
      "Best Solution: 2655\n"
     ]
    }
   ],
   "source": [
    "# crossover rate at 0.5 and mytation rate at 0.05\n",
    "\n",
    "x = np.arange(num_iterations)\n",
    "y = np.array(fitness)\n",
    "plt.title(\"Fitness over iterations\") \n",
    "plt.xlabel(\"Iteration\") \n",
    "plt.ylabel(\"Fitness\") \n",
    "plt.plot(x,y) \n",
    "plt.show()\n",
    "print(\"Best Solution: \" + str(best_soln.fitness))"
   ]
  },
  {
   "attachments": {
    "image.png": {
     "image/png": "[encoded data removed]"
    }
   },
   "cell_type": "markdown",
   "metadata": {},
   "source": [
    "![image.png](attachment:image.png)\n",
    "Best Solution 2655"
   ]
  },
  {
   "cell_type": "code",
   "execution_count": null,
   "metadata": {},
   "outputs": [],
   "source": [
    "# The parameters for the problem are changed here \n",
    "class parameters:\n",
    "  def __init__(self):\n",
    "    self.number_in_population = 700\n",
    "    self.number_of_iterations = 1000\n",
    "\n",
    "    #children\n",
    "    self.child_rate = 1\n",
    "    self.number_of_children = self.number_in_population * self.child_rate\n",
    "\n",
    "    #tournament selection parameters\n",
    "    self.competitors_per_match = 3\n",
    "    self.matches_per_round = 9\n",
    "\n",
    "    #Crossover Rate\n",
    "    self.crossover_rate = 0.5\n",
    "    self.crossover_explore_rate = 0.5\n",
    "\n",
    "    #Mutation parameters\n",
    "    self.mutation_rate = 0.05\n",
    "    self.mutation_range = 0.5\n",
    "\n",
    "    #Explore exploit\n",
    "    self.explore_exploit = .5"
   ]
  },
  {
   "cell_type": "code",
   "execution_count": null,
   "metadata": {},
   "outputs": [],
   "source": [
    "prob = problem()\n",
    "params = parameters()"
   ]
  },
  {
   "cell_type": "code",
   "execution_count": null,
   "metadata": {},
   "outputs": [],
   "source": [
    "treasure = treasure_hoard(500, 1967)"
   ]
  },
  {
   "cell_type": "code",
   "execution_count": null,
   "metadata": {},
   "outputs": [],
   "source": [
    "best_soln, num_iterations, fitness = run_genetic(prob, params)"
   ]
  },
  {
   "cell_type": "code",
   "execution_count": null,
   "metadata": {},
   "outputs": [],
   "source": [
    "# population at 700 and iterations at 1000\n",
    "\n",
    "x = np.arange(num_iterations)\n",
    "y = np.array(fitness)\n",
    "plt.title(\"Fitness over iterations\") \n",
    "plt.xlabel(\"Iteration\") \n",
    "plt.ylabel(\"Fitness\") \n",
    "plt.plot(x,y) \n",
    "plt.show()\n",
    "print(\"Best Solution: \" + str(best_soln.fitness))"
   ]
  },
  {
   "cell_type": "code",
   "execution_count": null,
   "metadata": {},
   "outputs": [],
   "source": [
    "# attempted higher population and iterations bet kernel would not run."
   ]
  },
  {
   "cell_type": "code",
   "execution_count": 31,
   "metadata": {},
   "outputs": [],
   "source": [
    "# The parameters for the problem are changed here \n",
    "class parameters:\n",
    "  def __init__(self):\n",
    "    self.number_in_population = 500\n",
    "    self.number_of_iterations = 700\n",
    "\n",
    "    #children\n",
    "    self.child_rate = 1\n",
    "    self.number_of_children = self.number_in_population * self.child_rate\n",
    "\n",
    "    #tournament selection parameters\n",
    "    self.competitors_per_match = 3\n",
    "    self.matches_per_round = 9\n",
    "\n",
    "    #Crossover Rate\n",
    "    self.crossover_rate = 0.05\n",
    "    self.crossover_explore_rate = 0.5\n",
    "\n",
    "    #Mutation parameters\n",
    "    self.mutation_rate = 0.05\n",
    "    self.mutation_range = 0.5\n",
    "\n",
    "    #Explore exploit\n",
    "    self.explore_exploit = .5"
   ]
  },
  {
   "cell_type": "code",
   "execution_count": 32,
   "metadata": {},
   "outputs": [],
   "source": [
    "prob = problem()\n",
    "params = parameters()"
   ]
  },
  {
   "cell_type": "code",
   "execution_count": 33,
   "metadata": {},
   "outputs": [],
   "source": [
    "treasure = treasure_hoard(500, 1967)"
   ]
  },
  {
   "cell_type": "code",
   "execution_count": null,
   "metadata": {},
   "outputs": [],
   "source": [
    "best_soln, num_iterations, fitness = run_genetic(prob, params)"
   ]
  },
  {
   "cell_type": "code",
   "execution_count": null,
   "metadata": {},
   "outputs": [],
   "source": [
    "#crossover rate at 0.05 and mtation rate at 0.05\n",
    "x = np.arange(num_iterations)\n",
    "y = np.array(fitness)\n",
    "plt.title(\"Fitness over iterations\") \n",
    "plt.xlabel(\"Iteration\") \n",
    "plt.ylabel(\"Fitness\") \n",
    "plt.plot(x,y) \n",
    "plt.show()\n",
    "print(\"Best Solution: \" + str(best_soln.fitness))"
   ]
  },
  {
   "cell_type": "code",
   "execution_count": null,
   "metadata": {},
   "outputs": [],
   "source": []
  },
  {
   "cell_type": "code",
   "execution_count": null,
   "metadata": {},
   "outputs": [],
   "source": []
  },
  {
   "cell_type": "code",
   "execution_count": null,
   "metadata": {},
   "outputs": [],
   "source": []
  },
  {
   "cell_type": "code",
   "execution_count": null,
   "metadata": {},
   "outputs": [],
   "source": []
  },
  {
   "cell_type": "code",
   "execution_count": null,
   "metadata": {},
   "outputs": [],
   "source": []
  },
  {
   "cell_type": "code",
   "execution_count": null,
   "metadata": {},
   "outputs": [],
   "source": []
  },
  {
   "cell_type": "code",
   "execution_count": null,
   "metadata": {},
   "outputs": [],
   "source": []
  },
  {
   "cell_type": "code",
   "execution_count": null,
   "metadata": {},
   "outputs": [],
   "source": []
  }
 ],
 "metadata": {
  "kernelspec": {
   "display_name": "Python 3",
   "language": "python",
   "name": "python3"
  },
  "language_info": {
   "codemirror_mode": {
    "name": "ipython",
    "version": 3
   },
   "file_extension": ".py",
   "mimetype": "text/x-python",
   "name": "python",
   "nbconvert_exporter": "python",
   "pygments_lexer": "ipython3",
   "version": "3.8.5"
  }
 },
 "nbformat": 4,
 "nbformat_minor": 4
}
